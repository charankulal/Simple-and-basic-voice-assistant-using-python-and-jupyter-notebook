{
 "cells": [
  {
   "cell_type": "code",
   "execution_count": null,
   "id": "0e1753ea",
   "metadata": {},
   "outputs": [],
   "source": [
    "#Importing the neccessary packages or modules\n",
    "import pyttsx3\n",
    "import datetime\n",
    "import pywhatkit\n",
    "import pyjokes\n",
    "import os\n",
    "import yfinance as yf\n",
    "import speech_recognition as sr\n",
    "import webbrowser"
   ]
  },
  {
   "cell_type": "code",
   "execution_count": null,
   "id": "effd3370",
   "metadata": {},
   "outputs": [],
   "source": [
    "#Listen to microphone and returns audio as text using google\n",
    "def transform():\n",
    "    r=sr.Recognizer()\n",
    "    with sr.Microphone() as source:\n",
    "        r.pause_threshold=0.8\n",
    "        said=r.listen(source)\n",
    "        try:\n",
    "            print('I am listening')\n",
    "            q=r.recognize_google(said,language='en')\n",
    "            return q\n",
    "        except sr.UnknownValueError:\n",
    "            print(\"Sorry..I did not understand\")\n",
    "            return \"I am waiting\"\n",
    "        except sr.RequestError:\n",
    "            print(\"Sorry..Service is down\")\n",
    "            return \"I am waiting\"\n",
    "        except:\n",
    "            return \"I am waiting\"\n",
    "        \n",
    "transform()   "
   ]
  },
  {
   "cell_type": "code",
   "execution_count": null,
   "id": "5a470248",
   "metadata": {},
   "outputs": [],
   "source": [
    "#Voice assistant engine\n",
    "def speaking(message):\n",
    "    engine=pyttsx3.init();\n",
    "    engine.say(message)\n",
    "    engine.runAndWait()\n",
    "speaking(\"Hello world\")    "
   ]
  },
  {
   "cell_type": "code",
   "execution_count": null,
   "id": "0a90f36a",
   "metadata": {},
   "outputs": [],
   "source": [
    "#To get know about languages and voices\n",
    "engine=pyttsx3.init();\n",
    "for voice in engine.getProperty('voices'):\n",
    "    print(voice)"
   ]
  },
  {
   "cell_type": "code",
   "execution_count": null,
   "id": "df87ef63",
   "metadata": {},
   "outputs": [],
   "source": [
    "#setting the voice and lanaguage\n",
    "id=\"HKEY_LOCAL_MACHINE\\SOFTWARE\\Microsoft\\Speech\\Voices\\Tokens\\TTS_MS_EN-US_ZIRA_11.0\"\n",
    "engine.setProperty('voice',id)\n",
    "engine.say(\"Hello world\")\n",
    "engine.runAndWait()"
   ]
  },
  {
   "cell_type": "code",
   "execution_count": null,
   "id": "57f35560",
   "metadata": {},
   "outputs": [],
   "source": [
    "#Returns the week days\n",
    "def query_day():\n",
    "    day=datetime.date.today()\n",
    "    print(day)\n",
    "    weekday=day.weekday()\n",
    "    #print(weekday)\n",
    "    mapping={\n",
    "        0:\"Monday\",\n",
    "        1:\"Tuesday\",\n",
    "        2:\"Wednesday\",\n",
    "        3:\"Thursday\",\n",
    "        4:\"Friday\",\n",
    "        5:\"Saturday\"\n",
    "    }\n",
    "    try:\n",
    "        speaking(f'Today is {mapping[weekday]}')\n",
    "    except:\n",
    "        pass\n",
    "query_day()    "
   ]
  },
  {
   "cell_type": "code",
   "execution_count": null,
   "id": "3d2c68a6",
   "metadata": {},
   "outputs": [],
   "source": [
    "#For querying the time\n",
    "def query_time():\n",
    "    time=datetime.datetime.now().strftime(\"%I:%M:%S\")\n",
    "    speaking(f\"{time[0:2]} O Clock and {time[3:5]} minutes\")\n",
    "    print(time)\n",
    "query_time()"
   ]
  },
  {
   "cell_type": "code",
   "execution_count": null,
   "id": "df91f4af",
   "metadata": {},
   "outputs": [],
   "source": [
    "# Greet Function on startup\n",
    "def greet():\n",
    "    speaking('''Hii My name is Zira\n",
    "        I am your personal assistant\n",
    "        How may i Help you''')\n",
    "greet()"
   ]
  },
  {
   "cell_type": "code",
   "execution_count": null,
   "id": "ae0b1a3c",
   "metadata": {},
   "outputs": [],
   "source": [
    "# To take queries and answer\n",
    "def querying():\n",
    "    greet()\n",
    "    start=True\n",
    "    while(start):\n",
    "        q=transform().lower()\n",
    "        \n",
    "        if 'start youtube' in q:\n",
    "            speaking('Starting Youtube for you Just a second')\n",
    "            webbrowser.open(\"https://www.youtube.com\")\n",
    "            continue\n",
    "        elif 'start webbrowser' in q:\n",
    "            speaking(\"Opening Web Browser\")\n",
    "            webbrowser.open(\"https://www.google.com\")\n",
    "            continue\n",
    "        elif 'what day is it' in q:\n",
    "            query_day()\n",
    "            continue\n",
    "        elif ' what time is it' in q:\n",
    "            query_time()\n",
    "            continue\n",
    "        elif 'shut up' in q:\n",
    "            speaking(\"I Will shut my mouth\")\n",
    "            break;\n",
    "        elif 'from wikipedia' in q:\n",
    "            speaking(\"Checking wikipedia\")\n",
    "            q=q.replace(\"wikipedia\",\"\")\n",
    "            result=wikipedia.summary(q,sentences=2)\n",
    "            speaking(\"Found on wikipeadia\")\n",
    "            speaking(result)\n",
    "            continue\n",
    "        elif 'your name' in q:\n",
    "            speaking(\" I am Zira\")\n",
    "            continue\n",
    "        elif \"search web\" in q:\n",
    "            pywhatkit.search(q)\n",
    "            speaking(\"What i found\")\n",
    "            continue\n",
    "        elif \"play\" in q:\n",
    "            speaking(\"Playing\")\n",
    "            pywhatkit.playonyt(q)\n",
    "            continue\n",
    "        elif 'jokes' in q:\n",
    "            speaking(pyjokes.get_joke())\n",
    "            continue\n",
    "        elif 'stock price' in q:\n",
    "            search=q.split(\"of\")[-1].strip()\n",
    "            lookup={'apple':'AAPL',\n",
    "                    'amazon':'AMZN',\n",
    "                     'Google':'GOOGL'}\n",
    "            try:\n",
    "                stock=lookup[search]\n",
    "                stock=yf.Ticker(stock)\n",
    "                currentprice=stock.info['regularMarketPrice']\n",
    "                speaking(f'found it, the price for {search} is {currentprice}')\n",
    "                continue\n",
    "            except:\n",
    "                speaking(f'Sorry I have no data for {search}')"
   ]
  },
  {
   "cell_type": "code",
   "execution_count": null,
   "id": "a6090915",
   "metadata": {},
   "outputs": [],
   "source": [
    "querying()"
   ]
  },
  {
   "cell_type": "code",
   "execution_count": null,
   "id": "93d0e724",
   "metadata": {},
   "outputs": [],
   "source": []
  }
 ],
 "metadata": {
  "kernelspec": {
   "display_name": "Python 3 (ipykernel)",
   "language": "python",
   "name": "python3"
  },
  "language_info": {
   "codemirror_mode": {
    "name": "ipython",
    "version": 3
   },
   "file_extension": ".py",
   "mimetype": "text/x-python",
   "name": "python",
   "nbconvert_exporter": "python",
   "pygments_lexer": "ipython3",
   "version": "3.9.12"
  }
 },
 "nbformat": 4,
 "nbformat_minor": 5
}
